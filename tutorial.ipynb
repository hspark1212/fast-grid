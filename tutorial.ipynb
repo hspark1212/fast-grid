{
 "cells": [
  {
   "cell_type": "code",
   "execution_count": null,
   "metadata": {},
   "outputs": [],
   "source": [
    "from fast_grid import calculate_grid\n",
    "\n",
    "calculate_grid(\n",
    "    atoms=\"examples/irmof-1.cif\",\n",
    "    grid_size=30,\n",
    "    ff_type=\"UFF\",\n",
    "    potential=\"LJ\",\n",
    "    cutoff=12.8,\n",
    "    gas_epsilon=148.0,\n",
    "    gas_sigma=3.73,\n",
    "    visualize=True,\n",
    ")"
   ]
  },
  {
   "cell_type": "code",
   "execution_count": null,
   "metadata": {},
   "outputs": [],
   "source": [
    "from fast_grid import calculate_grid\n",
    "from ase.build import bulk\n",
    "\n",
    "atoms = bulk(\"Cu\", \"fcc\", a=3.6, cubic=True)\n",
    "calculate_grid(\n",
    "    atoms=atoms,\n",
    "    grid_spacing=0.2,\n",
    "    potential=\"Gaussian\",\n",
    "    gaussian_height=1.0,\n",
    "    gaussian_width=1.0,\n",
    "    visualize=True,\n",
    "    pallete=\"atomic\",\n",
    ")"
   ]
  }
 ],
 "metadata": {
  "kernelspec": {
   "display_name": "text2",
   "language": "python",
   "name": "python3"
  },
  "language_info": {
   "codemirror_mode": {
    "name": "ipython",
    "version": 3
   },
   "file_extension": ".py",
   "mimetype": "text/x-python",
   "name": "python",
   "nbconvert_exporter": "python",
   "pygments_lexer": "ipython3",
   "version": "3.10.14"
  }
 },
 "nbformat": 4,
 "nbformat_minor": 2
}
